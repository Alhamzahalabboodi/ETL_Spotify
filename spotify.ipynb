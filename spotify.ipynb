{
 "cells": [
  {
   "cell_type": "code",
   "execution_count": 11,
   "id": "5c9795d2-8087-4549-a86e-dfeaf79c585f",
   "metadata": {},
   "outputs": [],
   "source": [
    "import requests\n",
    "import json\n",
    "import csv\n",
    "import pandas as pd\n",
    "import numpy as np\n",
    "import sqlalchemy\n",
    "from sqlalchemy.orm import sessionmaker\n",
    "from datetime import datetime\n",
    "import datetime\n",
    "import sqlite3\n",
    "import matplotlib.pyplot as plt\n",
    "from pprint import pprint\n",
    "from sqlalchemy import create_engine\n",
    "import spotipy\n",
    "from spotipy.oauth2 import SpotifyOAuth\n",
    "import psycopg2\n",
    "import sys"
   ]
  },
  {
   "cell_type": "code",
   "execution_count": 9,
   "id": "750e8e4b-b8ba-44fe-bcf2-83cb0d3148a4",
   "metadata": {},
   "outputs": [
    {
     "name": "stdout",
     "output_type": "stream",
     "text": [
      "{'error': {'message': 'Insufficient client scope', 'status': 403}}\n"
     ]
    }
   ],
   "source": [
    "# My spotify account\n",
    "# Make an api request to exteract the data from spotify\n",
    "\n",
    "user_id = \"alhamzah.alabboodi\"\n",
    "url = \"https://api.spotify.com/v1/me/player/recently-played?after=\"\n",
    "# Token \n",
    "TOKEN = \"BQAeHH1q_-BjiHgv_FqqWWR5l8w9h67Y7wzaSLB1vXpSWbR7mOg_kt8s_F_BdMC251FejE1UvqMxUhVwuTGciYE7gGPXogGmmtiuY-2i9JvutVrfavV3xfAJybfxP4fbvBa_HFUIRePp5mZZgHOnSWneSxzqdsnHU71GQguga4t9tYjHWS7uTeIdkA\"\n",
    "# Step number 1 : extract\n",
    "\n",
    "if __name__ == \"__main__\":\n",
    "    \n",
    "    headers = {\n",
    "        \"Accept\" : \"application/json\",\n",
    "        \"content-Type\" : \"application/json\",\n",
    "        \"Authorization\" : \"Bearer {token}\".format(token=TOKEN)\n",
    "    }\n",
    "    #sicne today's unix timestamp in milliseconds, we need to convert yesterday's as well\n",
    "    today = datetime.datetime.now()\n",
    "    yesterday = today - datetime.timedelta(days=1)\n",
    "    yesterday_unix_timestamp = int(yesterday.timestamp()) *1000\n",
    "    \n",
    "    #preform the request\n",
    "    request =  requests.get(\"https://api.spotify.com/v1/me/player/recently-played?after={time}\".format(time = yesterday_unix_timestamp), headers = headers)\n",
    "    response = request.json()\n",
    "    pprint(response)\n"
   ]
  },
  {
   "cell_type": "code",
   "execution_count": null,
   "id": "9963cee5-cba7-4e88-b325-96dc2036d2e6",
   "metadata": {},
   "outputs": [],
   "source": []
  }
 ],
 "metadata": {
  "kernelspec": {
   "display_name": "Python 3 (ipykernel)",
   "language": "python",
   "name": "python3"
  },
  "language_info": {
   "codemirror_mode": {
    "name": "ipython",
    "version": 3
   },
   "file_extension": ".py",
   "mimetype": "text/x-python",
   "name": "python",
   "nbconvert_exporter": "python",
   "pygments_lexer": "ipython3",
   "version": "3.9.12"
  }
 },
 "nbformat": 4,
 "nbformat_minor": 5
}
